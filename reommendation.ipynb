{
 "cells": [
  {
   "cell_type": "code",
   "execution_count": 1,
   "metadata": {},
   "outputs": [
    {
     "name": "stdout",
     "output_type": "stream",
     "text": [
      "Requirement already satisfied: numpy in c:\\python312\\lib\\site-packages (1.26.4)\n",
      "Requirement already satisfied: pandas in c:\\python312\\lib\\site-packages (2.2.2)\n",
      "Requirement already satisfied: scikit-learn in c:\\python312\\lib\\site-packages (1.5.0)\n",
      "Requirement already satisfied: implicit in c:\\python312\\lib\\site-packages (0.7.2)\n",
      "Requirement already satisfied: flask in c:\\python312\\lib\\site-packages (3.0.3)\n",
      "Requirement already satisfied: python-dateutil>=2.8.2 in c:\\users\\lucky\\appdata\\roaming\\python\\python312\\site-packages (from pandas) (2.9.0.post0)\n",
      "Requirement already satisfied: pytz>=2020.1 in c:\\python312\\lib\\site-packages (from pandas) (2024.1)\n",
      "Requirement already satisfied: tzdata>=2022.7 in c:\\python312\\lib\\site-packages (from pandas) (2024.1)\n",
      "Requirement already satisfied: scipy>=1.6.0 in c:\\python312\\lib\\site-packages (from scikit-learn) (1.13.1)\n",
      "Requirement already satisfied: joblib>=1.2.0 in c:\\python312\\lib\\site-packages (from scikit-learn) (1.4.2)\n",
      "Requirement already satisfied: threadpoolctl>=3.1.0 in c:\\python312\\lib\\site-packages (from scikit-learn) (3.5.0)\n",
      "Requirement already satisfied: tqdm>=4.27 in c:\\python312\\lib\\site-packages (from implicit) (4.66.4)\n",
      "Requirement already satisfied: Werkzeug>=3.0.0 in c:\\python312\\lib\\site-packages (from flask) (3.0.3)\n",
      "Requirement already satisfied: Jinja2>=3.1.2 in c:\\python312\\lib\\site-packages (from flask) (3.1.4)\n",
      "Requirement already satisfied: itsdangerous>=2.1.2 in c:\\python312\\lib\\site-packages (from flask) (2.2.0)\n",
      "Requirement already satisfied: click>=8.1.3 in c:\\python312\\lib\\site-packages (from flask) (8.1.7)\n",
      "Requirement already satisfied: blinker>=1.6.2 in c:\\python312\\lib\\site-packages (from flask) (1.8.2)\n",
      "Requirement already satisfied: colorama in c:\\users\\lucky\\appdata\\roaming\\python\\python312\\site-packages (from click>=8.1.3->flask) (0.4.6)\n",
      "Requirement already satisfied: MarkupSafe>=2.0 in c:\\python312\\lib\\site-packages (from Jinja2>=3.1.2->flask) (2.1.5)\n",
      "Requirement already satisfied: six>=1.5 in c:\\users\\lucky\\appdata\\roaming\\python\\python312\\site-packages (from python-dateutil>=2.8.2->pandas) (1.16.0)\n",
      "Note: you may need to restart the kernel to use updated packages.\n"
     ]
    }
   ],
   "source": [
    "pip install numpy pandas scikit-learn implicit flask"
   ]
  },
  {
   "cell_type": "code",
   "execution_count": 2,
   "metadata": {},
   "outputs": [],
   "source": [
    "import numpy as np\n",
    "import pandas as pd\n",
    "import os"
   ]
  },
  {
   "cell_type": "code",
   "execution_count": 3,
   "metadata": {},
   "outputs": [
    {
     "data": {
      "text/plain": [
       "884124"
      ]
     },
     "execution_count": 3,
     "metadata": {},
     "output_type": "execute_result"
    }
   ],
   "source": [
    "# Reading csv to dataframe\n",
    "df = pd.read_csv(\"events.csv\")\n",
    "len(df)"
   ]
  },
  {
   "cell_type": "code",
   "execution_count": 4,
   "metadata": {},
   "outputs": [
    {
     "data": {
      "text/plain": [
       "515690"
      ]
     },
     "execution_count": 4,
     "metadata": {},
     "output_type": "execute_result"
    }
   ],
   "source": [
    "# Cleaning\n",
    "df.dropna(inplace=True)\n",
    "len(df)"
   ]
  },
  {
   "cell_type": "code",
   "execution_count": 5,
   "metadata": {},
   "outputs": [],
   "source": [
    "from sklearn.preprocessing import LabelEncoder\n",
    "from scipy.sparse import csr_matrix\n",
    "\n",
    "# Encode user_id and product_id\n",
    "user_encoder = LabelEncoder()\n",
    "item_encoder = LabelEncoder()\n",
    "\n",
    "df['user'] = user_encoder.fit_transform(df['user_id'])\n",
    "df['item'] = item_encoder.fit_transform(df['product_id'])\n",
    "\n",
    "# Create user-item interaction matrix\n",
    "interaction_matrix = csr_matrix(\n",
    "    (df['event_type'].apply(lambda x: 1 if x == 'view' else 2), \n",
    "     (df['user'], df['item']))\n",
    ")"
   ]
  },
  {
   "cell_type": "code",
   "execution_count": 6,
   "metadata": {},
   "outputs": [
    {
     "name": "stderr",
     "output_type": "stream",
     "text": [
      "c:\\Python312\\Lib\\site-packages\\tqdm\\auto.py:21: TqdmWarning: IProgress not found. Please update jupyter and ipywidgets. See https://ipywidgets.readthedocs.io/en/stable/user_install.html\n",
      "  from .autonotebook import tqdm as notebook_tqdm\n",
      "c:\\Python312\\Lib\\site-packages\\implicit\\cpu\\als.py:95: RuntimeWarning: OpenBLAS is configured to use 8 threads. It is highly recommended to disable its internal threadpool by setting the environment variable 'OPENBLAS_NUM_THREADS=1' or by calling 'threadpoolctl.threadpool_limits(1, \"blas\")'. Having OpenBLAS use a threadpool can lead to severe performance issues here.\n",
      "  check_blas_config()\n",
      "c:\\Python312\\Lib\\site-packages\\implicit\\utils.py:164: ParameterWarning: Method expects CSR input, and was passed csc_matrix instead. Converting to CSR took 0.015614986419677734 seconds\n",
      "  warnings.warn(\n",
      "100%|██████████| 30/30 [01:11<00:00,  2.37s/it]\n"
     ]
    }
   ],
   "source": [
    "# Collaborative filtering\n",
    "import implicit\n",
    "\n",
    "# Train the model on the interaction matrix\n",
    "# Note: implicit library expects the item-user matrix\n",
    "\n",
    "if os.path.exists(\"recommendation.npz\"):\n",
    "  # model.load(\"recommendation.npz\")\n",
    "  data = np.load('recommendation.npz', allow_pickle=True)\n",
    "  # Initialize a new AlternatingLeastSquares object\n",
    "  model = implicit.als.AlternatingLeastSquares()\n",
    "  # Load the model parameters from the .npz file\n",
    "  model.__dict__.update(data)\n",
    "else:\n",
    "  # Initialize the model\n",
    "  model = implicit.als.AlternatingLeastSquares(factors=50, regularization=0.1, iterations=30)\n",
    "  model.fit(interaction_matrix.T)\n",
    "  np.savez('recommendation.npz', **model.__dict__)"
   ]
  },
  {
   "cell_type": "code",
   "execution_count": 7,
   "metadata": {},
   "outputs": [],
   "source": [
    "def recommend(user_id, user_encoder, item_encoder, model, interaction_matrix, n_recommendations=10):\n",
    "    # Check if user_id is in the encoder\n",
    "    if user_id not in user_encoder.classes_:\n",
    "        return []\n",
    "\n",
    "    # Get the internal user id\n",
    "    internal_user_id = user_encoder.transform([user_id])[0]\n",
    "    \n",
    "    # Get recommendations (item ids and scores)\n",
    "    recommendations = model.recommend(internal_user_id, interaction_matrix[internal_user_id], N=n_recommendations)\n",
    "    \n",
    "    # Decode the item ids back to product ids and handle unseen items\n",
    "    recommended_items = []\n",
    "    scores = []\n",
    "    for item_id, score in zip(recommendations[0], recommendations[1]):\n",
    "        try:\n",
    "            recommended_items.append(item_encoder.inverse_transform([item_id])[0])\n",
    "            scores.append(score)\n",
    "        except ValueError:\n",
    "            # Skip unseen labels\n",
    "            continue\n",
    "    \n",
    "    return list(zip(recommended_items, scores))"
   ]
  },
  {
   "cell_type": "code",
   "execution_count": 8,
   "metadata": {},
   "outputs": [],
   "source": [
    "import logging\n",
    "\n",
    "# Setup logging\n",
    "logging.basicConfig(filename=\"recommendation_log.log\", level=logging.INFO)\n",
    "\n",
    "def log_recommendations(user_id, recommendations):\n",
    "    response = []\n",
    "    for recommendation in recommendations:\n",
    "        response.append({\"product_id\" : str(recommendation[0]), \"score\" : str(recommendation[1])})\n",
    "    logging.info(f' User: {user_id}, Recommendations: {response}')"
   ]
  },
  {
   "cell_type": "code",
   "execution_count": 9,
   "metadata": {},
   "outputs": [
    {
     "name": "stdout",
     "output_type": "stream",
     "text": [
      "[(1005425, 7.5565583e-07), (621123, 6.231506e-07)]\n"
     ]
    }
   ],
   "source": [
    "# Example: get recommendations for a specific user_id\n",
    "user_id = 1515915625353230683\n",
    "recommendations = recommend(user_id, user_encoder, item_encoder, model, interaction_matrix)\n",
    "log_recommendations(user_id, recommendations)\n",
    "print(recommendations)"
   ]
  },
  {
   "cell_type": "code",
   "execution_count": 10,
   "metadata": {},
   "outputs": [
    {
     "name": "stdout",
     "output_type": "stream",
     "text": [
      "[(1005425, 7.5565583e-07), (621123, 6.231506e-07)]\n",
      "MAP Score: 0.5\n"
     ]
    }
   ],
   "source": [
    "from sklearn.metrics import average_precision_score\n",
    "\n",
    "# Evaluate recommendations (mean average precision)\n",
    "def evaluate_model(true_items, recommended_items):\n",
    "    if not recommended_items:\n",
    "        return 0.0\n",
    "    print(recommended_items)\n",
    "    y_true = [1 if item[0] in true_items else 0 for item in recommended_items]\n",
    "    y_scores = [score for item, score in recommended_items]\n",
    "    return average_precision_score(y_true, y_scores)\n",
    "\n",
    "# Example evaluation\n",
    "true_items = [621123]  # Replace with actual user interaction data\n",
    "map_score = evaluate_model(true_items, recommendations)\n",
    "print(f'MAP Score: {map_score}')"
   ]
  },
  {
   "cell_type": "code",
   "execution_count": 11,
   "metadata": {},
   "outputs": [],
   "source": [
    "start_user_id = df[\"user_id\"].min()\n",
    "end_user_id = df[\"user_id\"].max()\n",
    "\n",
    "counter = 0\n",
    "for user_id in range(start_user_id, end_user_id + 1):\n",
    "  if counter > 10:\n",
    "    break\n",
    "  recommendations = recommend(user_id, user_encoder, item_encoder, model, interaction_matrix)\n",
    "  if len(recommendations):\n",
    "    counter += 1\n",
    "    log_recommendations(user_id, recommendations)"
   ]
  },
  {
   "cell_type": "code",
   "execution_count": 12,
   "metadata": {},
   "outputs": [],
   "source": [
    "# Train the model with new data\n",
    "df_new = pd.read_csv(\"new_events.csv\")\n",
    "\n",
    "# Clean data\n",
    "df_new.dropna(inplace=True)\n",
    "\n",
    "# Encode user_id and product_id\n",
    "user_encoder_new = LabelEncoder()\n",
    "item_encoder_new = LabelEncoder()\n",
    "\n",
    "df_new['user'] = user_encoder_new.fit_transform(df_new['user_id'])\n",
    "df_new['item'] = item_encoder_new.fit_transform(df_new['product_id'])\n",
    "\n",
    "# Create user-item interaction matrix\n",
    "interaction_matrix_new = csr_matrix(\n",
    "    (df_new['event_type'].apply(lambda x: 1 if x == 'view' else 2), \n",
    "     (df_new['user'], df_new['item']))\n",
    ")\n",
    "\n",
    "\n",
    "if os.path.exists(\"recommendation.npz\"):\n",
    "    data = np.load('recommendation.npz', allow_pickle=True)\n",
    "    # Initialize a new AlternatingLeastSquares object\n",
    "    model = implicit.als.AlternatingLeastSquares()\n",
    "    # Load the model parameters from the .npz file\n",
    "    model.__dict__.update(data)\n",
    "else:\n",
    "    model = implicit.als.AlternatingLeastSquares(factors=50, regularization=0.1, iterations=100)\n",
    "    model.fit(interaction_matrix_new.T)\n",
    "    np.savez(\"recommendation.npz\", **model.__dict__)"
   ]
  },
  {
   "cell_type": "code",
   "execution_count": 13,
   "metadata": {},
   "outputs": [
    {
     "name": "stdout",
     "output_type": "stream",
     "text": [
      " * Serving Flask app '__main__'\n",
      " * Debug mode: off\n"
     ]
    }
   ],
   "source": [
    "from flask import Flask, request, jsonify\n",
    "\n",
    "app = Flask(__name__)\n",
    "\n",
    "@app.route('/recommend', methods=['GET'])\n",
    "def recommend_route():\n",
    "    user_id = request.args.get('user_id', type=int)\n",
    "    recommendations = recommend(user_id, user_encoder, item_encoder, model, interaction_matrix)\n",
    "    response = []\n",
    "    if recommendations:\n",
    "        for recommendation in recommendations:\n",
    "            response.append({\"product_id\" : str(recommendation[0]), \"score\" : str(recommendation[1])})\n",
    "        return jsonify({\"status\": \"success\", \"response\": response})\n",
    "    return jsonify({\"status\": \"failed\", \"response\" : \"cannot recommend for this user due to insufficient data\"})\n",
    "\n",
    "if __name__ == '__main__':\n",
    "    app.run()"
   ]
  }
 ],
 "metadata": {
  "kernelspec": {
   "display_name": "Python 3",
   "language": "python",
   "name": "python3"
  },
  "language_info": {
   "codemirror_mode": {
    "name": "ipython",
    "version": 3
   },
   "file_extension": ".py",
   "mimetype": "text/x-python",
   "name": "python",
   "nbconvert_exporter": "python",
   "pygments_lexer": "ipython3",
   "version": "3.12.1"
  }
 },
 "nbformat": 4,
 "nbformat_minor": 2
}
